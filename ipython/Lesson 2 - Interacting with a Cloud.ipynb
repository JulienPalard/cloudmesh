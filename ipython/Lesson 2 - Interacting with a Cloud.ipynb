{
 "metadata": {
  "name": ""
 },
 "nbformat": 3,
 "nbformat_minor": 0,
 "worksheets": [
  {
   "cells": [
    {
     "cell_type": "code",
     "collapsed": false,
     "input": [
      "import cloudmesh\n",
      "from pprint import pprint"
     ],
     "language": "python",
     "metadata": {},
     "outputs": [],
     "prompt_number": 14
    },
    {
     "cell_type": "code",
     "collapsed": false,
     "input": [
      "print cloudmesh.__version__"
     ],
     "language": "python",
     "metadata": {},
     "outputs": [
      {
       "output_type": "stream",
       "stream": "stdout",
       "text": [
        "0.5\n"
       ]
      }
     ],
     "prompt_number": 15
    },
    {
     "cell_type": "code",
     "collapsed": false,
     "input": [
      "cloudname = \"sierra_openstack_grizzly\""
     ],
     "language": "python",
     "metadata": {},
     "outputs": [],
     "prompt_number": 16
    },
    {
     "cell_type": "code",
     "collapsed": false,
     "input": [
      "mesh = cloudmesh.mesh()"
     ],
     "language": "python",
     "metadata": {},
     "outputs": [],
     "prompt_number": 17
    },
    {
     "cell_type": "code",
     "collapsed": false,
     "input": [
      "print mesh.active()"
     ],
     "language": "python",
     "metadata": {},
     "outputs": [
      {
       "output_type": "stream",
       "stream": "stdout",
       "text": [
        "['sierra_openstack_grizzly', 'hp', 'hp_east', 'aws', 'azure', 'intel_opencirrus_tashi', 'gatech_50_essex', 'gatech_32_essex']\n"
       ]
      }
     ],
     "prompt_number": 18
    },
    {
     "cell_type": "code",
     "collapsed": false,
     "input": [
      "mesh.refresh(names=[cloudname], types=['flavor'])"
     ],
     "language": "python",
     "metadata": {},
     "outputs": [],
     "prompt_number": 19
    },
    {
     "cell_type": "code",
     "collapsed": false,
     "input": [
      "flavors = mesh.clouds[cloudname]['flavor']"
     ],
     "language": "python",
     "metadata": {},
     "outputs": [],
     "prompt_number": 20
    },
    {
     "cell_type": "code",
     "collapsed": false,
     "input": [
      "pprint (flavors)"
     ],
     "language": "python",
     "metadata": {},
     "outputs": [
      {
       "output_type": "stream",
       "stream": "stdout",
       "text": [
        "{u'1': {u'OS-FLV-DISABLED:disabled': False,\n",
        "        u'OS-FLV-EXT-DATA:ephemeral': 0,\n",
        "        'cm_cloud': 'sierra_openstack_grizzly',\n",
        "        'cm_cloud_type': 'openstack',\n",
        "        'cm_cloud_version': 'grizzly',\n",
        "        'cm_refresh': '2013-10-05T22-31-10Z',\n",
        "        'cm_type': 'flavor',\n",
        "        u'disk': 0,\n",
        "        u'id': u'1',\n",
        "        u'links': [{u'href': u'http://198.202.120.83:8774/v1.1/1ae6813a3a6d4cebbeb1912f6d139ad0/flavors/1',\n",
        "                    u'rel': u'self'},\n",
        "                   {u'href': u'http://198.202.120.83:8774/1ae6813a3a6d4cebbeb1912f6d139ad0/flavors/1',\n",
        "                    u'rel': u'bookmark'}],\n",
        "        u'name': u'm1.tiny',\n",
        "        u'os-flavor-access:is_public': True,\n",
        "        u'ram': 512,\n",
        "        u'rxtx_factor': 1.0,\n",
        "        u'swap': u'',\n",
        "        u'vcpus': 1},\n",
        " u'2': {u'OS-FLV-DISABLED:disabled': False,\n",
        "        u'OS-FLV-EXT-DATA:ephemeral': 0,\n",
        "        'cm_cloud': 'sierra_openstack_grizzly',\n",
        "        'cm_cloud_type': 'openstack',\n",
        "        'cm_cloud_version': 'grizzly',\n",
        "        'cm_refresh': '2013-10-05T22-31-10Z',\n",
        "        'cm_type': 'flavor',\n",
        "        u'disk': 20,\n",
        "        u'id': u'2',\n",
        "        u'links': [{u'href': u'http://198.202.120.83:8774/v1.1/1ae6813a3a6d4cebbeb1912f6d139ad0/flavors/2',\n",
        "                    u'rel': u'self'},\n",
        "                   {u'href': u'http://198.202.120.83:8774/1ae6813a3a6d4cebbeb1912f6d139ad0/flavors/2',\n",
        "                    u'rel': u'bookmark'}],\n",
        "        u'name': u'm1.small',\n",
        "        u'os-flavor-access:is_public': True,\n",
        "        u'ram': 2048,\n",
        "        u'rxtx_factor': 1.0,\n",
        "        u'swap': u'',\n",
        "        u'vcpus': 1},\n",
        " u'3': {u'OS-FLV-DISABLED:disabled': False,\n",
        "        u'OS-FLV-EXT-DATA:ephemeral': 0,\n",
        "        'cm_cloud': 'sierra_openstack_grizzly',\n",
        "        'cm_cloud_type': 'openstack',\n",
        "        'cm_cloud_version': 'grizzly',\n",
        "        'cm_refresh': '2013-10-05T22-31-10Z',\n",
        "        'cm_type': 'flavor',\n",
        "        u'disk': 40,\n",
        "        u'id': u'3',\n",
        "        u'links': [{u'href': u'http://198.202.120.83:8774/v1.1/1ae6813a3a6d4cebbeb1912f6d139ad0/flavors/3',\n",
        "                    u'rel': u'self'},\n",
        "                   {u'href': u'http://198.202.120.83:8774/1ae6813a3a6d4cebbeb1912f6d139ad0/flavors/3',\n",
        "                    u'rel': u'bookmark'}],\n",
        "        u'name': u'm1.medium',\n",
        "        u'os-flavor-access:is_public': True,\n",
        "        u'ram': 4096,\n",
        "        u'rxtx_factor': 1.0,\n",
        "        u'swap': u'',\n",
        "        u'vcpus': 2},\n",
        " u'4': {u'OS-FLV-DISABLED:disabled': False,\n",
        "        u'OS-FLV-EXT-DATA:ephemeral': 0,\n",
        "        'cm_cloud': 'sierra_openstack_grizzly',\n",
        "        'cm_cloud_type': 'openstack',\n",
        "        'cm_cloud_version': 'grizzly',\n",
        "        'cm_refresh': '2013-10-05T22-31-10Z',\n",
        "        'cm_type': 'flavor',\n",
        "        u'disk': 80,\n",
        "        u'id': u'4',\n",
        "        u'links': [{u'href': u'http://198.202.120.83:8774/v1.1/1ae6813a3a6d4cebbeb1912f6d139ad0/flavors/4',\n",
        "                    u'rel': u'self'},\n",
        "                   {u'href': u'http://198.202.120.83:8774/1ae6813a3a6d4cebbeb1912f6d139ad0/flavors/4',\n",
        "                    u'rel': u'bookmark'}],\n",
        "        u'name': u'm1.large',\n",
        "        u'os-flavor-access:is_public': True,\n",
        "        u'ram': 8192,\n",
        "        u'rxtx_factor': 1.0,\n",
        "        u'swap': u'',\n",
        "        u'vcpus': 4},\n",
        " u'5': {u'OS-FLV-DISABLED:disabled': False,\n",
        "        u'OS-FLV-EXT-DATA:ephemeral': 0,\n",
        "        'cm_cloud': 'sierra_openstack_grizzly',\n",
        "        'cm_cloud_type': 'openstack',\n",
        "        'cm_cloud_version': 'grizzly',\n",
        "        'cm_refresh': '2013-10-05T22-31-10Z',\n",
        "        'cm_type': 'flavor',\n",
        "        u'disk': 160,\n",
        "        u'id': u'5',\n",
        "        u'links': [{u'href': u'http://198.202.120.83:8774/v1.1/1ae6813a3a6d4cebbeb1912f6d139ad0/flavors/5',\n",
        "                    u'rel': u'self'},\n",
        "                   {u'href': u'http://198.202.120.83:8774/1ae6813a3a6d4cebbeb1912f6d139ad0/flavors/5',\n",
        "                    u'rel': u'bookmark'}],\n",
        "        u'name': u'm1.xlarge',\n",
        "        u'os-flavor-access:is_public': True,\n",
        "        u'ram': 16384,\n",
        "        u'rxtx_factor': 1.0,\n",
        "        u'swap': u'',\n",
        "        u'vcpus': 8},\n",
        " u'6': {u'OS-FLV-DISABLED:disabled': False,\n",
        "        u'OS-FLV-EXT-DATA:ephemeral': 0,\n",
        "        'cm_cloud': 'sierra_openstack_grizzly',\n",
        "        'cm_cloud_type': 'openstack',\n",
        "        'cm_cloud_version': 'grizzly',\n",
        "        'cm_refresh': '2013-10-05T22-31-10Z',\n",
        "        'cm_type': 'flavor',\n",
        "        u'disk': 20,\n",
        "        u'id': u'6',\n",
        "        u'links': [{u'href': u'http://198.202.120.83:8774/v1.1/1ae6813a3a6d4cebbeb1912f6d139ad0/flavors/6',\n",
        "                    u'rel': u'self'},\n",
        "                   {u'href': u'http://198.202.120.83:8774/1ae6813a3a6d4cebbeb1912f6d139ad0/flavors/6',\n",
        "                    u'rel': u'bookmark'}],\n",
        "        u'name': u'm1.memlarge',\n",
        "        u'os-flavor-access:is_public': True,\n",
        "        u'ram': 8192,\n",
        "        u'rxtx_factor': 1.0,\n",
        "        u'swap': u'',\n",
        "        u'vcpus': 1},\n",
        " u'7': {u'OS-FLV-DISABLED:disabled': False,\n",
        "        u'OS-FLV-EXT-DATA:ephemeral': 0,\n",
        "        'cm_cloud': 'sierra_openstack_grizzly',\n",
        "        'cm_cloud_type': 'openstack',\n",
        "        'cm_cloud_version': 'grizzly',\n",
        "        'cm_refresh': '2013-10-05T22-31-10Z',\n",
        "        'cm_type': 'flavor',\n",
        "        u'disk': 20,\n",
        "        u'id': u'7',\n",
        "        u'links': [{u'href': u'http://198.202.120.83:8774/v1.1/1ae6813a3a6d4cebbeb1912f6d139ad0/flavors/7',\n",
        "                    u'rel': u'self'},\n",
        "                   {u'href': u'http://198.202.120.83:8774/1ae6813a3a6d4cebbeb1912f6d139ad0/flavors/7',\n",
        "                    u'rel': u'bookmark'}],\n",
        "        u'name': u'm1.memmedium',\n",
        "        u'os-flavor-access:is_public': True,\n",
        "        u'ram': 4096,\n",
        "        u'rxtx_factor': 1.0,\n",
        "        u'swap': u'',\n",
        "        u'vcpus': 1}}\n"
       ]
      }
     ],
     "prompt_number": 21
    },
    {
     "cell_type": "code",
     "collapsed": false,
     "input": [
      "for  flavor in flavors.keys():\n",
      "    print flavor, flavors[flavor]['name']"
     ],
     "language": "python",
     "metadata": {},
     "outputs": [
      {
       "output_type": "stream",
       "stream": "stdout",
       "text": [
        "1 m1.tiny\n",
        "3 m1.medium\n",
        "2 m1.small\n",
        "5 m1.xlarge\n",
        "4 m1.large\n",
        "7 m1.memmedium\n",
        "6 m1.memlarge\n"
       ]
      }
     ],
     "prompt_number": 29
    },
    {
     "cell_type": "code",
     "collapsed": false,
     "input": [
      "cloudmesh.refresh()"
     ],
     "language": "python",
     "metadata": {},
     "outputs": []
    },
    {
     "cell_type": "code",
     "collapsed": false,
     "input": [
      "print cloudmesh.images(cloudname)"
     ],
     "language": "python",
     "metadata": {},
     "outputs": []
    },
    {
     "cell_type": "code",
     "collapsed": false,
     "input": [
      "print cloudmesh.servers(cloudname)"
     ],
     "language": "python",
     "metadata": {},
     "outputs": []
    },
    {
     "cell_type": "code",
     "collapsed": false,
     "input": [
      "cloudmesh.vm.list(cloudname)"
     ],
     "language": "python",
     "metadata": {},
     "outputs": []
    },
    {
     "cell_type": "code",
     "collapsed": false,
     "input": [
      "info = cloudmesh.vm.start(cloudname)"
     ],
     "language": "python",
     "metadata": {},
     "outputs": []
    },
    {
     "cell_type": "code",
     "collapsed": false,
     "input": [
      "cloudmsh.vm.delete(cloudname, info[\"id\"])"
     ],
     "language": "python",
     "metadata": {},
     "outputs": []
    },
    {
     "cell_type": "code",
     "collapsed": false,
     "input": [
      "cloudmesh.vm.delete(cloudname)"
     ],
     "language": "python",
     "metadata": {},
     "outputs": []
    },
    {
     "cell_type": "code",
     "collapsed": false,
     "input": [
      "cloudmesh.vm.delete(cloudname, \"{status: ERROR}\", bloccking=True, refresh=True)"
     ],
     "language": "python",
     "metadata": {},
     "outputs": []
    },
    {
     "cell_type": "code",
     "collapsed": false,
     "input": [
      "cloudmesh.vm.delete(cloudname, \"{status: ERROR}\") # non blocking"
     ],
     "language": "python",
     "metadata": {},
     "outputs": []
    },
    {
     "cell_type": "code",
     "collapsed": false,
     "input": [
      "cloudmesh.refresh([\"servers\"])"
     ],
     "language": "python",
     "metadata": {},
     "outputs": []
    },
    {
     "cell_type": "code",
     "collapsed": false,
     "input": [
      "cloudmesh.vm.rename(\"prefix-[000]\", 11)"
     ],
     "language": "python",
     "metadata": {},
     "outputs": []
    }
   ],
   "metadata": {}
  }
 ]
}