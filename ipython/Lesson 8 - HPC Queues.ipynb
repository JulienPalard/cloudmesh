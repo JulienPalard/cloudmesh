{
 "metadata": {
  "name": ""
 },
 "nbformat": 3,
 "nbformat_minor": 0,
 "worksheets": [
  {
   "cells": [
    {
     "cell_type": "code",
     "collapsed": false,
     "input": [
      "from pprint import pprint"
     ],
     "language": "python",
     "metadata": {},
     "outputs": [],
     "prompt_number": 2
    },
    {
     "cell_type": "markdown",
     "metadata": {},
     "source": [
      "Initialize cloudmesh"
     ]
    },
    {
     "cell_type": "code",
     "collapsed": false,
     "input": [
      "import cloudmesh"
     ],
     "language": "python",
     "metadata": {},
     "outputs": [],
     "prompt_number": 3
    },
    {
     "cell_type": "code",
     "collapsed": false,
     "input": [
      "print cloudmesh.__version__"
     ],
     "language": "python",
     "metadata": {},
     "outputs": [
      {
       "output_type": "stream",
       "stream": "stdout",
       "text": [
        "0.5\n"
       ]
      }
     ],
     "prompt_number": 4
    },
    {
     "cell_type": "markdown",
     "metadata": {},
     "source": [
      "Get the user name"
     ]
    },
    {
     "cell_type": "code",
     "collapsed": false,
     "input": [
      "user = cloudmesh.load().username()"
     ],
     "language": "python",
     "metadata": {},
     "outputs": [],
     "prompt_number": 5
    },
    {
     "cell_type": "code",
     "collapsed": false,
     "input": [
      "print user"
     ],
     "language": "python",
     "metadata": {},
     "outputs": [
      {
       "output_type": "stream",
       "stream": "stdout",
       "text": [
        "gvonlasz\n"
       ]
      }
     ],
     "prompt_number": 6
    },
    {
     "cell_type": "markdown",
     "metadata": {},
     "source": [
      "Specify a host"
     ]
    },
    {
     "cell_type": "code",
     "collapsed": false,
     "input": [
      "host = \"india.futuregrid.org\""
     ],
     "language": "python",
     "metadata": {},
     "outputs": [],
     "prompt_number": 7
    },
    {
     "cell_type": "markdown",
     "metadata": {},
     "source": [
      "Start an instance to indi to interact with it to conduct pbs calls"
     ]
    },
    {
     "cell_type": "code",
     "collapsed": false,
     "input": [
      "india = cloudmesh.PBS(user,host)"
     ],
     "language": "python",
     "metadata": {},
     "outputs": [],
     "prompt_number": 8
    },
    {
     "cell_type": "markdown",
     "metadata": {},
     "source": [
      "Get the Queue information in a dict"
     ]
    },
    {
     "cell_type": "code",
     "collapsed": false,
     "input": [
      "queue = india.qstat()"
     ],
     "language": "python",
     "metadata": {},
     "outputs": [],
     "prompt_number": 9
    },
    {
     "cell_type": "markdown",
     "metadata": {},
     "source": [
      "Print the dict"
     ]
    },
    {
     "cell_type": "code",
     "collapsed": false,
     "input": [
      "pprint (queue)"
     ],
     "language": "python",
     "metadata": {},
     "outputs": [
      {
       "output_type": "stream",
       "stream": "stdout",
       "text": [
        "{u'784967.i136': {u'Checkpoint': u'u',\n",
        "                  u'Error_Path': u'i136:/N/u/inca/incaReporterManager/sub30133.stderr',\n",
        "                  u'Hold_Types': u'n',\n",
        "                  u'Job_Id': u'784967.i136',\n",
        "                  u'Job_Name': u'papi-inca',\n",
        "                  u'Job_Owner': u'inca@i136',\n",
        "                  u'Join_Path': u'n',\n",
        "                  u'Keep_Files': u'n',\n",
        "                  u'Mail_Points': u'n',\n",
        "                  u'Output_Path': u'i136:/N/u/inca/incaReporterManager/sub30133.stdout',\n",
        "                  u'Priority': u'0',\n",
        "                  u'Rerunable': u'True',\n",
        "                  u'Resource_List': {u'ncpus': u'1',\n",
        "                                     u'nodect': u'1',\n",
        "                                     u'nodes': u'1',\n",
        "                                     u'walltime': u'00:10:00'},\n",
        "                  u'Shell_Path_List': u'/bin/sh',\n",
        "                  u'ctime': u'1379611441',\n",
        "                  u'etime': u'1379611441',\n",
        "                  u'fault_tolerant': u'False',\n",
        "                  u'init_work_dir': u'/N/u/inca/incaReporterManager',\n",
        "                  u'job_state': u'Q',\n",
        "                  u'mtime': u'1379611441',\n",
        "                  u'qtime': u'1379611441',\n",
        "                  u'queue': u'bravo',\n",
        "                  u'server': u'i136',\n",
        "                  u'submit_args': u'/N/u/inca/incaReporterManager/sub30133.sub',\n",
        "                  u'submit_host': u'i136'},\n",
        " u'785040.i136': {u'Checkpoint': u'u',\n",
        "                  u'Error_Path': u'i136:/N/u/inca/incaReporterManager/sub9073.stderr',\n",
        "                  u'Hold_Types': u'n',\n",
        "                  u'Job_Id': u'785040.i136',\n",
        "                  u'Job_Name': u'sub9073.sub',\n",
        "                  u'Job_Owner': u'inca@i136',\n",
        "                  u'Join_Path': u'n',\n",
        "                  u'Keep_Files': u'n',\n",
        "                  u'Mail_Points': u'n',\n",
        "                  u'Output_Path': u'i136:/N/u/inca/incaReporterManager/sub9073.stdout',\n",
        "                  u'Priority': u'0',\n",
        "                  u'Rerunable': u'True',\n",
        "                  u'Resource_List': {u'ncpus': u'1',\n",
        "                                     u'nodect': u'1',\n",
        "                                     u'nodes': u'1:ppn=8',\n",
        "                                     u'walltime': u'00:10:00'},\n",
        "                  u'Shell_Path_List': u'/bin/sh',\n",
        "                  u'ctime': u'1379621401',\n",
        "                  u'etime': u'1379621401',\n",
        "                  u'fault_tolerant': u'False',\n",
        "                  u'init_work_dir': u'/N/u/inca/incaReporterManager',\n",
        "                  u'job_state': u'Q',\n",
        "                  u'mtime': u'1379621401',\n",
        "                  u'qtime': u'1379621401',\n",
        "                  u'queue': u'bravo',\n",
        "                  u'server': u'i136',\n",
        "                  u'submit_args': u'/N/u/inca/incaReporterManager/sub9073.sub',\n",
        "                  u'submit_host': u'i136'},\n",
        " u'788236.i136': {u'Checkpoint': u'u',\n",
        "                  u'Error_Path': u'i136:/N/u/inca/incaReporterManager/sub12111.stderr',\n",
        "                  u'Hold_Types': u'n',\n",
        "                  u'Job_Id': u'788236.i136',\n",
        "                  u'Job_Name': u'papi-inca',\n",
        "                  u'Job_Owner': u'inca@i136',\n",
        "                  u'Join_Path': u'n',\n",
        "                  u'Keep_Files': u'n',\n",
        "                  u'Mail_Points': u'n',\n",
        "                  u'Output_Path': u'i136:/N/u/inca/incaReporterManager/sub12111.stdout',\n",
        "                  u'Priority': u'0',\n",
        "                  u'Rerunable': u'True',\n",
        "                  u'Resource_List': {u'ncpus': u'1',\n",
        "                                     u'nodect': u'1',\n",
        "                                     u'nodes': u'1',\n",
        "                                     u'walltime': u'00:10:00'},\n",
        "                  u'Shell_Path_List': u'/bin/sh',\n",
        "                  u'ctime': u'1379641680',\n",
        "                  u'etime': u'1379641680',\n",
        "                  u'fault_tolerant': u'False',\n",
        "                  u'init_work_dir': u'/N/u/inca/incaReporterManager',\n",
        "                  u'job_state': u'Q',\n",
        "                  u'mtime': u'1379641680',\n",
        "                  u'qtime': u'1379641680',\n",
        "                  u'queue': u'bravo',\n",
        "                  u'server': u'i136',\n",
        "                  u'submit_args': u'/N/u/inca/incaReporterManager/sub12111.sub',\n",
        "                  u'submit_host': u'i136'},\n",
        " u'788237.i136': {u'Checkpoint': u'u',\n",
        "                  u'Error_Path': u'i136:/N/u/inca/incaReporterManager/sub12158.stderr',\n",
        "                  u'Hold_Types': u'n',\n",
        "                  u'Job_Id': u'788237.i136',\n",
        "                  u'Job_Name': u'sub12158.sub',\n",
        "                  u'Job_Owner': u'inca@i136',\n",
        "                  u'Join_Path': u'n',\n",
        "                  u'Keep_Files': u'n',\n",
        "                  u'Mail_Points': u'n',\n",
        "                  u'Output_Path': u'i136:/N/u/inca/incaReporterManager/sub12158.stdout',\n",
        "                  u'Priority': u'0',\n",
        "                  u'Rerunable': u'True',\n",
        "                  u'Resource_List': {u'ncpus': u'1',\n",
        "                                     u'nodect': u'1',\n",
        "                                     u'nodes': u'1:ppn=8',\n",
        "                                     u'walltime': u'00:10:00'},\n",
        "                  u'Shell_Path_List': u'/bin/sh',\n",
        "                  u'ctime': u'1379641681',\n",
        "                  u'etime': u'1379641681',\n",
        "                  u'fault_tolerant': u'False',\n",
        "                  u'init_work_dir': u'/N/u/inca/incaReporterManager',\n",
        "                  u'job_state': u'Q',\n",
        "                  u'mtime': u'1379641681',\n",
        "                  u'qtime': u'1379641681',\n",
        "                  u'queue': u'bravo',\n",
        "                  u'server': u'i136',\n",
        "                  u'submit_args': u'/N/u/inca/incaReporterManager/sub12158.sub',\n",
        "                  u'submit_host': u'i136'},\n",
        " u'804534.i136': {u'Checkpoint': u'u',\n",
        "                  u'Error_Path': u'i136:/N/u/inca/incaReporterManager/sub8257.stderr',\n",
        "                  u'Hold_Types': u'n',\n",
        "                  u'Job_Id': u'804534.i136',\n",
        "                  u'Job_Name': u'sub8257.sub',\n",
        "                  u'Job_Owner': u'inca@i136',\n",
        "                  u'Join_Path': u'n',\n",
        "                  u'Keep_Files': u'n',\n",
        "                  u'Mail_Points': u'n',\n",
        "                  u'Output_Path': u'i136:/N/u/inca/incaReporterManager/sub8257.stdout',\n",
        "                  u'Priority': u'0',\n",
        "                  u'Rerunable': u'True',\n",
        "                  u'Resource_List': {u'ncpus': u'1',\n",
        "                                     u'nodect': u'1',\n",
        "                                     u'nodes': u'1:ppn=8',\n",
        "                                     u'walltime': u'00:10:00'},\n",
        "                  u'Shell_Path_List': u'/bin/sh',\n",
        "                  u'ctime': u'1379670481',\n",
        "                  u'etime': u'1379670481',\n",
        "                  u'fault_tolerant': u'False',\n",
        "                  u'init_work_dir': u'/N/u/inca/incaReporterManager',\n",
        "                  u'job_state': u'Q',\n",
        "                  u'mtime': u'1379670481',\n",
        "                  u'qtime': u'1379670481',\n",
        "                  u'queue': u'bravo',\n",
        "                  u'server': u'i136',\n",
        "                  u'submit_args': u'/N/u/inca/incaReporterManager/sub8257.sub',\n",
        "                  u'submit_host': u'i136'},\n",
        " u'809363.i136': {u'Checkpoint': u'u',\n",
        "                  u'Error_Path': u'i136:/N/u/inca/incaReporterManager/sub4286.stderr',\n",
        "                  u'Hold_Types': u'n',\n",
        "                  u'Job_Id': u'809363.i136',\n",
        "                  u'Job_Name': u'vampir-inca',\n",
        "                  u'Job_Owner': u'inca@i136',\n",
        "                  u'Join_Path': u'n',\n",
        "                  u'Keep_Files': u'n',\n",
        "                  u'Mail_Points': u'n',\n",
        "                  u'Output_Path': u'i136:/N/u/inca/incaReporterManager/sub4286.stdout',\n",
        "                  u'Priority': u'0',\n",
        "                  u'Rerunable': u'True',\n",
        "                  u'Resource_List': {u'ncpus': u'1',\n",
        "                                     u'nodect': u'1',\n",
        "                                     u'nodes': u'1',\n",
        "                                     u'walltime': u'00:10:00'},\n",
        "                  u'Shell_Path_List': u'/bin/sh',\n",
        "                  u'ctime': u'1379678760',\n",
        "                  u'etime': u'1379678760',\n",
        "                  u'fault_tolerant': u'False',\n",
        "                  u'init_work_dir': u'/N/u/inca/incaReporterManager',\n",
        "                  u'job_state': u'Q',\n",
        "                  u'mtime': u'1379678760',\n",
        "                  u'qtime': u'1379678760',\n",
        "                  u'queue': u'bravo',\n",
        "                  u'server': u'i136',\n",
        "                  u'submit_args': u'/N/u/inca/incaReporterManager/sub4286.sub',\n",
        "                  u'submit_host': u'i136'},\n",
        " u'812685.i136': {u'Checkpoint': u'u',\n",
        "                  u'Error_Path': u'i136:/N/u/zhangbj/qsub.sh.e812685',\n",
        "                  u'Hold_Types': u'n',\n",
        "                  u'Job_Id': u'812685.i136',\n",
        "                  u'Job_Name': u'qsub.sh',\n",
        "                  u'Job_Owner': u'zhangbj@i136',\n",
        "                  u'Join_Path': u'oe',\n",
        "                  u'Keep_Files': u'o',\n",
        "                  u'Mail_Points': u'abe',\n",
        "                  u'Output_Path': u'i136:/N/u/zhangbj/qsub.sh.o812685',\n",
        "                  u'Priority': u'0',\n",
        "                  u'Rerunable': u'True',\n",
        "                  u'Resource_List': {u'naccesspolicy': u'singletask',\n",
        "                                     u'ncpus': u'1',\n",
        "                                     u'nodect': u'5',\n",
        "                                     u'nodes': u'5',\n",
        "                                     u'walltime': u'24:00:00'},\n",
        "                  u'ctime': u'1379692019',\n",
        "                  u'etime': u'1379692019',\n",
        "                  u'fault_tolerant': u'False',\n",
        "                  u'job_state': u'Q',\n",
        "                  u'mtime': u'1379692019',\n",
        "                  u'qtime': u'1379692019',\n",
        "                  u'queue': u'bravo',\n",
        "                  u'server': u'i136',\n",
        "                  u'submit_args': u'qsub.sh'},\n",
        " u'818482.i136': {u'Checkpoint': u'u',\n",
        "                  u'Error_Path': u'i136:/N/u/inca/incaReporterManager/sub22418.stderr',\n",
        "                  u'Hold_Types': u'n',\n",
        "                  u'Job_Id': u'818482.i136',\n",
        "                  u'Job_Name': u'vampir-inca',\n",
        "                  u'Job_Owner': u'inca@i136',\n",
        "                  u'Join_Path': u'n',\n",
        "                  u'Keep_Files': u'n',\n",
        "                  u'Mail_Points': u'n',\n",
        "                  u'Output_Path': u'i136:/N/u/inca/incaReporterManager/sub22418.stdout',\n",
        "                  u'Priority': u'0',\n",
        "                  u'Rerunable': u'True',\n",
        "                  u'Resource_List': {u'ncpus': u'1',\n",
        "                                     u'nodect': u'1',\n",
        "                                     u'nodes': u'1',\n",
        "                                     u'walltime': u'00:10:00'},\n",
        "                  u'Shell_Path_List': u'/bin/sh',\n",
        "                  u'ctime': u'1379765160',\n",
        "                  u'etime': u'1379765160',\n",
        "                  u'fault_tolerant': u'False',\n",
        "                  u'init_work_dir': u'/N/u/inca/incaReporterManager',\n",
        "                  u'job_state': u'Q',\n",
        "                  u'mtime': u'1379765160',\n",
        "                  u'qtime': u'1379765160',\n",
        "                  u'queue': u'bravo',\n",
        "                  u'server': u'i136',\n",
        "                  u'submit_args': u'/N/u/inca/incaReporterManager/sub22418.sub',\n",
        "                  u'submit_host': u'i136'},\n",
        " u'865287.i136': {u'Checkpoint': u'u',\n",
        "                  u'Error_Path': u'i134:/N/u/xcguser/XCG/shared-directory-india-bravo/E8985A83-A797-B48C-309C-8ACD0C5E0D0A/qsub7830704021916198242.sh.e865287',\n",
        "                  u'Hold_Types': u'n',\n",
        "                  u'Job_Id': u'865287.i136',\n",
        "                  u'Job_Name': u'qsub7830704021916198242.sh',\n",
        "                  u'Job_Owner': u'xcguser@i134',\n",
        "                  u'Join_Path': u'n',\n",
        "                  u'Keep_Files': u'n',\n",
        "                  u'Mail_Points': u'a',\n",
        "                  u'Output_Path': u'i134:/N/u/xcguser/XCG/shared-directory-india-bravo/E8985A83-A797-B48C-309C-8ACD0C5E0D0A/qsub7830704021916198242.sh.o865287',\n",
        "                  u'Priority': u'0',\n",
        "                  u'Rerunable': u'True',\n",
        "                  u'Resource_List': {u'ncpus': u'1',\n",
        "                                     u'nodect': u'1',\n",
        "                                     u'nodes': u'1',\n",
        "                                     u'walltime': u'04:00:00'},\n",
        "                  u'ctime': u'1380604403',\n",
        "                  u'etime': u'1380604403',\n",
        "                  u'fault_tolerant': u'False',\n",
        "                  u'job_state': u'Q',\n",
        "                  u'mtime': u'1380604403',\n",
        "                  u'qtime': u'1380604403',\n",
        "                  u'queue': u'bravo',\n",
        "                  u'server': u'i136',\n",
        "                  u'submit_args': u'-q bravo /N/u/xcguser/XCG/shared-directory-india-bravo/E8985A83-A797-B48C-309C-8ACD0C5E0D0A/qsub7830704021916198242.sh'}}\n"
       ]
      }
     ],
     "prompt_number": 10
    },
    {
     "cell_type": "markdown",
     "metadata": {},
     "source": [
      "Demonstrating what we can do with the dict"
     ]
    },
    {
     "cell_type": "code",
     "collapsed": false,
     "input": [
      "print \"{0:>20} | {1:>1} | {2:<30}\".format('Owner', \n",
      "                                   \"S\", \n",
      "                                   \"Job\")\n",
      "print 70 * \"-\"    \n",
      "for name in queue:\n",
      "    job = queue[name]\n",
      "    print \"{0:>20} | {1:>1} | {2:<30}\".format(job['Job_Owner'], \n",
      "                                   job[\"job_state\"], \n",
      "                                   job[\"Job_Name\"])"
     ],
     "language": "python",
     "metadata": {},
     "outputs": [
      {
       "output_type": "stream",
       "stream": "stdout",
       "text": [
        "               Owner | S | Job                           \n",
        "----------------------------------------------------------------------\n",
        "           inca@i136 | Q | papi-inca                     \n",
        "        zhangbj@i136 | Q | qsub.sh                       \n",
        "           inca@i136 | Q | papi-inca                     \n",
        "           inca@i136 | Q | sub8257.sub                   \n",
        "           inca@i136 | Q | vampir-inca                   \n",
        "           inca@i136 | Q | sub9073.sub                   \n",
        "        xcguser@i134 | Q | qsub7830704021916198242.sh    \n",
        "           inca@i136 | Q | vampir-inca                   \n",
        "           inca@i136 | Q | sub12158.sub                  \n"
       ]
      }
     ],
     "prompt_number": 11
    }
   ],
   "metadata": {}
  }
 ]
}